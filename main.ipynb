{
 "cells": [
  {
   "cell_type": "code",
   "execution_count": 3,
   "metadata": {},
   "outputs": [],
   "source": [
    "import pandas as pd\n",
    "import utils.get_datasets as get_datasets\n",
    "import utils.config as config\n",
    "import models.arch as arch\n",
    "import models.get_loss_optim as get_loss_optim"
   ]
  },
  {
   "cell_type": "code",
   "execution_count": 9,
   "metadata": {},
   "outputs": [
    {
     "name": "stdout",
     "output_type": "stream",
     "text": [
      "       icd_code  icd_version  \\\n",
      "0          0010            9   \n",
      "1          0011            9   \n",
      "2          0019            9   \n",
      "3          0020            9   \n",
      "4          0021            9   \n",
      "...         ...          ...   \n",
      "109770     Z992           10   \n",
      "109771     Z993           10   \n",
      "109772     Z998           10   \n",
      "109773    Z9981           10   \n",
      "109774    Z9989           10   \n",
      "\n",
      "                                               long_title  \n",
      "0                          Cholera due to vibrio cholerae  \n",
      "1                   Cholera due to vibrio cholerae el tor  \n",
      "2                                    Cholera, unspecified  \n",
      "3                                           Typhoid fever  \n",
      "4                                     Paratyphoid fever A  \n",
      "...                                                   ...  \n",
      "109770                       Dependence on renal dialysis  \n",
      "109771                           Dependence on wheelchair  \n",
      "109772  Dependence on other enabling machines and devices  \n",
      "109773                  Dependence on supplemental oxygen  \n",
      "109774  Dependence on other enabling machines and devices  \n",
      "\n",
      "[109775 rows x 3 columns]          subject_id   hadm_id  seq_num icd_code  icd_version\n",
      "0          10000032  22595853        1     5723            9\n",
      "1          10000032  22595853        2    78959            9\n",
      "2          10000032  22595853        3     5715            9\n",
      "3          10000032  22595853        4    07070            9\n",
      "4          10000032  22595853        5      496            9\n",
      "...             ...       ...      ...      ...          ...\n",
      "4756321    19999987  23865745        7    41401            9\n",
      "4756322    19999987  23865745        8    78039            9\n",
      "4756323    19999987  23865745        9     0413            9\n",
      "4756324    19999987  23865745       10    36846            9\n",
      "4756325    19999987  23865745       11     7810            9\n",
      "\n",
      "[4756326 rows x 5 columns]\n"
     ]
    }
   ],
   "source": [
    "# how to get files\n",
    "# icustays = get_icu_files('icustays.csv.gz')\n",
    "d_icd_diagnoses = get_datasets.get_hosp_files('d_icd_diagnoses.csv.gz')\n",
    "icd_diagnoses = get_datasets.get_hosp_files('diagnoses_icd.csv.gz')\n",
    "\n",
    "print(d_icd_diagnoses, icd_diagnoses)"
   ]
  },
  {
   "cell_type": "code",
   "execution_count": 10,
   "metadata": {},
   "outputs": [
    {
     "name": "stdout",
     "output_type": "stream",
     "text": [
      "         subject_id   hadm_id  seq_num icd_code  icd_version_x  icd_version_y  \\\n",
      "0          10000032  22595853        1     5723              9              9   \n",
      "1          10000826  20032235        4     5723              9              9   \n",
      "2          10000826  28289260        1     5723              9              9   \n",
      "3          10005866  26158160        4     5723              9              9   \n",
      "4          10008924  23676183        7     5723              9              9   \n",
      "...             ...       ...      ...      ...            ...            ...   \n",
      "4860275    19990427  29695607       24  T24011A             10             10   \n",
      "4860276    19996016  28015466        4   O30093             10             10   \n",
      "4860277    19996783  25894657       20  H353131             10             10   \n",
      "4860278    19997062  20096107        1    K8036             10             10   \n",
      "4860279    19999043  23037011       10  O359XX2             10             10   \n",
      "\n",
      "                                                long_title  \n",
      "0                                      Portal hypertension  \n",
      "1                                      Portal hypertension  \n",
      "2                                      Portal hypertension  \n",
      "3                                      Portal hypertension  \n",
      "4                                      Portal hypertension  \n",
      "...                                                    ...  \n",
      "4860275  Burn of unspecified degree of right thigh, ini...  \n",
      "4860276  Twin pregnancy, unable to determine number of ...  \n",
      "4860277  Nonexudative age-related macular degeneration,...  \n",
      "4860278  Calculus of bile duct with acute and chronic c...  \n",
      "4860279  Maternal care for (suspected) fetal abnormalit...  \n",
      "\n",
      "[4860280 rows x 7 columns]\n"
     ]
    }
   ],
   "source": [
    "# how to join dataframe\n",
    "# example - inner join with icd_code (hosp_data)\n",
    "new_df = pd.merge(left=icd_diagnoses, right=d_icd_diagnoses, how='inner', on='icd_code')\n",
    "print(new_df)"
   ]
  },
  {
   "cell_type": "code",
   "execution_count": 2,
   "metadata": {},
   "outputs": [
    {
     "name": "stdout",
     "output_type": "stream",
     "text": [
      "{'device': 0, 'seed': 42, 'model': 'SVM', 'batch_size': 128, 'num_workers': 2, 'epoch': 200, 'num_cls': 100, 'lr': 0.01, 'momentum': 0.9, 'weight_decay': 0.0001, 'nesterov': True, 'data_path': './', 'save_path': './', 'print_freq': 10}\n",
      "mps\n"
     ]
    }
   ],
   "source": [
    "# get arguments ( utils / config.py)\n",
    "args = config.get_arguments()\n",
    "print(args)\n",
    "# gpu setup\n",
    "device = config.setup(args)\n",
    "print(device)\n"
   ]
  },
  {
   "cell_type": "code",
   "execution_count": 7,
   "metadata": {},
   "outputs": [
    {
     "ename": "AttributeError",
     "evalue": "'SVC' object has no attribute 'parameters'",
     "output_type": "error",
     "traceback": [
      "\u001b[0;31m---------------------------------------------------------------------------\u001b[0m",
      "\u001b[0;31mAttributeError\u001b[0m                            Traceback (most recent call last)",
      "Cell \u001b[0;32mIn[7], line 2\u001b[0m\n\u001b[1;32m      1\u001b[0m model \u001b[39m=\u001b[39m arch\u001b[39m.\u001b[39mget_model(args)\n\u001b[0;32m----> 2\u001b[0m optimizer, criterion \u001b[39m=\u001b[39m get_loss_optim\u001b[39m.\u001b[39;49mget_optimizer(args, model)\n\u001b[1;32m      3\u001b[0m model\u001b[39m.\u001b[39mto(device)\n\u001b[1;32m      5\u001b[0m \u001b[39mprint\u001b[39m(model)\n",
      "File \u001b[0;32m~/Downloads/MIMIC-IV_V2/models/get_loss_optim.py:8\u001b[0m, in \u001b[0;36mget_optimizer\u001b[0;34m(args, model)\u001b[0m\n\u001b[1;32m      5\u001b[0m \u001b[39mdef\u001b[39;00m \u001b[39mget_optimizer\u001b[39m(args, model):\n\u001b[1;32m      7\u001b[0m     criterion \u001b[39m=\u001b[39m nn\u001b[39m.\u001b[39mBCEWithLogitsLoss()\n\u001b[0;32m----> 8\u001b[0m     optimizer \u001b[39m=\u001b[39m optim\u001b[39m.\u001b[39mAdam(model\u001b[39m.\u001b[39;49mparameters(), lr\u001b[39m=\u001b[39m args\u001b[39m.\u001b[39mlr)\n\u001b[1;32m     10\u001b[0m     \u001b[39mreturn\u001b[39;00m optimizer, criterion\n",
      "\u001b[0;31mAttributeError\u001b[0m: 'SVC' object has no attribute 'parameters'"
     ]
    }
   ],
   "source": [
    "model = arch.get_model(args)\n",
    "optimizer, criterion = get_loss_optim.get_optimizer(args, model)\n",
    "model.to(device)"
   ]
  },
  {
   "cell_type": "code",
   "execution_count": null,
   "metadata": {},
   "outputs": [],
   "source": []
  }
 ],
 "metadata": {
  "kernelspec": {
   "display_name": "pytorchenv",
   "language": "python",
   "name": "python3"
  },
  "language_info": {
   "codemirror_mode": {
    "name": "ipython",
    "version": 3
   },
   "file_extension": ".py",
   "mimetype": "text/x-python",
   "name": "python",
   "nbconvert_exporter": "python",
   "pygments_lexer": "ipython3",
   "version": "3.8.16"
  },
  "orig_nbformat": 4
 },
 "nbformat": 4,
 "nbformat_minor": 2
}
